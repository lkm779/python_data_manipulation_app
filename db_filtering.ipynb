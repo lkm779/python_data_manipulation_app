{
 "cells": [
  {
   "cell_type": "code",
   "execution_count": null,
   "metadata": {},
   "outputs": [],
   "source": [
    "! pip install pandas\n",
    "! pip install matplotlib.pyplot\n",
    "! pip install plotly.express\n",
    "! pip install openpyxl\n",
    "! pip install petl"
   ]
  },
  {
   "cell_type": "code",
   "execution_count": null,
   "metadata": {},
   "outputs": [],
   "source": [
    "import pandas as pd\n",
    "import petl as etl\n",
    "import glob, os, json"
   ]
  },
  {
   "cell_type": "code",
   "execution_count": null,
   "metadata": {},
   "outputs": [],
   "source": [
    "branch_df = pd.read_csv('final_cleaned_df.csv')\n",
    "branch_df.look()"
   ]
  },
  {
   "cell_type": "code",
   "execution_count": null,
   "metadata": {},
   "outputs": [],
   "source": [
    "#RIGHT DATA OUTPUT FOR DASH\n",
    "regional_product_search = regional_product.loc[regional_product['county'] == 'Nottinghamshire']\n",
    "top_product = regional_product_search.groupby('category')['quantity'].max(5).reset_index()\n",
    "bottom_product = regional_product_search.groupby('category')['quantity'].max(5).reset_index()"
   ]
  },
  {
   "cell_type": "code",
   "execution_count": null,
   "metadata": {},
   "outputs": [],
   "source": [
    "top_product.plot.bar(x=('category'), y=[\"quantity\"])"
   ]
  },
  {
   "cell_type": "code",
   "execution_count": null,
   "metadata": {},
   "outputs": [],
   "source": [
    "performance_df = branch_df[['branch', 'q','amount_in_gbp', 'region', 'county']]"
   ]
  },
  {
   "cell_type": "code",
   "execution_count": null,
   "metadata": {},
   "outputs": [],
   "source": [
    "branch_performance_df['best_branch'] = performance_df.amount_in_gbp + performance_df.quantity\n",
    "branch_performance_df.sort_values(by='best_branch', ascending=False)\n",
    "branch_performance_df'region'].value_counts().sort_values(ascending=False)"
   ]
  },
  {
   "cell_type": "code",
   "execution_count": null,
   "metadata": {},
   "outputs": [],
   "source": [
    "top_regional_performance = branch_performance_df.loc[performance_df['region'] == 'London'].nlargest(5,'best_performing')\n",
    "top_regional_performance.plot.bar(x=('branch') , y=['best_performing'])"
   ]
  },
  {
   "cell_type": "code",
   "execution_count": null,
   "metadata": {},
   "outputs": [],
   "source": [
    "ph_df = branch_df[['branch', 'hour', 'year' 'amount_in_gbp']]"
   ]
  },
  {
   "cell_type": "code",
   "execution_count": null,
   "metadata": {},
   "outputs": [],
   "source": [
    "ph_df.to_csv('ph_hour_df.csv')"
   ]
  },
  {
   "cell_type": "code",
   "execution_count": null,
   "metadata": {},
   "outputs": [],
   "source": [
    "#IDENTIFY TOP PROFITABLE BRANCHES (TOP10)\n",
    "profitable_df = branch_df[['branch','year', 'q', 'amount_in_gbp']]\n",
    "profitable_df.to_csv('most_profitable_branches_df.csv')"
   ]
  },
  {
   "cell_type": "code",
   "execution_count": null,
   "metadata": {},
   "outputs": [],
   "source": [
    "#TOTAL BRANCH EXPENSES\n",
    "total_branch_expenses_df\n",
    "total_branch_expenses_df['total_expenses'] = branch_expenses_df.apply(lambda row: row.operational_cost + row.staff_bonuses + row.misc_expenses + row.waste_cost, axis=1)"
   ]
  },
  {
   "cell_type": "code",
   "execution_count": null,
   "metadata": {},
   "outputs": [],
   "source": [
    "total_branch_expenses =branch_expenses_df.groupby('branch')['total_expenses'].sum().reset_index()\n",
    "branch_total_df = top_year_filtered_df.merge(total_branch_expenses.set_index('branch'), on='branch')"
   ]
  },
  {
   "cell_type": "code",
   "execution_count": null,
   "metadata": {},
   "outputs": [],
   "source": [
    "#TOTAL PROFITABILITY\n",
    "branch_total_df['profitability'] = branch_total_df.apply(lambda row: row.amount_in_gbp - row.total_expenses, axis=1)\n",
    "branch_total_df['profitability'] = branch_total_df.amount_in_gbp - branch_total_df.total_expenses\n",
    "branch_total_df.sort_values(by='profitability', ascending=False)"
   ]
  },
  {
   "cell_type": "code",
   "execution_count": null,
   "metadata": {},
   "outputs": [],
   "source": [
    "#TOP PROFITABLE STORES\n",
    "branch_total_df.sort_values(by='profitability', ascending=False)\n",
    "top_profitable_stores = branch_total_df.head(10)\n",
    "bottom_profitable_stores = branch_total_df.tail(10)\n",
    "top_profitability_stores\n"
   ]
  },
  {
   "cell_type": "code",
   "execution_count": null,
   "metadata": {},
   "outputs": [],
   "source": [
    "#LEAST PROFITABLE STORE\n",
    "least_profitable_stores.plot.bar(x=('branch'), y=['profitability'])\n",
    "plt.ylim(bottom= 1.00000e+09)\n",
    "plt.xlabel('Branch Name')\n",
    "plt.ylabel('Profitability')\n",
    "plt.title('Least Profitable Stores')"
   ]
  }
 ],
 "metadata": {
  "interpreter": {
   "hash": "aee8b7b246df8f9039afb4144a1f6fd8d2ca17a180786b69acc140d282b71a49"
  },
  "kernelspec": {
   "display_name": "Python 3.10.0 64-bit",
   "name": "python3"
  },
  "language_info": {
   "codemirror_mode": {
    "name": "ipython",
    "version": 3
   },
   "file_extension": ".py",
   "mimetype": "text/x-python",
   "name": "python",
   "nbconvert_exporter": "python",
   "pygments_lexer": "ipython3",
   "version": "3.10.0"
  },
  "orig_nbformat": 4
 },
 "nbformat": 4,
 "nbformat_minor": 2
}
